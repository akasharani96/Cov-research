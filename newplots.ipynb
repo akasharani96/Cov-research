{
 "cells": [
  {
   "cell_type": "markdown",
   "metadata": {},
   "source": [
    "### Genomic Diversity Plot"
   ]
  },
  {
   "cell_type": "code",
   "execution_count": 6,
   "metadata": {},
   "outputs": [
    {
     "name": "stdout",
     "output_type": "stream",
     "text": [
      "There are  895987  position values\n",
      "However there are  29343  unique position values\n",
      "There are  2374  unique samples\n",
      "       Position  Frequency\n",
      "0            10          2\n",
      "1            12          1\n",
      "2            13          1\n",
      "3            14          1\n",
      "4            19          2\n",
      "...         ...        ...\n",
      "29338     29861          1\n",
      "29339     29864          1\n",
      "29340     29867          1\n",
      "29341     29868          1\n",
      "29342     29870          3\n",
      "\n",
      "[29343 rows x 2 columns]\n"
     ]
    },
    {
     "data": {
      "text/plain": [
       "<matplotlib.axes._subplots.AxesSubplot at 0x21d0af03d00>"
      ]
     },
     "execution_count": 6,
     "metadata": {},
     "output_type": "execute_result"
    },
    {
     "data": {
      "image/png": "[encoded data removed]",
      "text/plain": [
       "<Figure size 432x288 with 1 Axes>"
      ]
     },
     "metadata": {
      "needs_background": "light"
     },
     "output_type": "display_data"
    }
   ],
   "source": [
    "import pandas as pd\n",
    "import matplotlib.pyplot as plt\n",
    "from collections import Counter\n",
    "import numpy as np\n",
    "\n",
    "t_filenameTSV=r'C:\\Users\\Dreambuilds\\Desktop\\Samples\\variant_list.tsv'\n",
    "tsv_read2= pd.read_csv(t_filenameTSV, sep='\\t')\n",
    "b=tsv_read2.values\n",
    "\n",
    "genposition2_values=b[:,2] \n",
    "positions2=Counter(genposition2_values).keys() \n",
    "uniquevals=len(list(positions2))\n",
    "binsval2=30000\n",
    "\n",
    "samples=Counter(b[:,0]).keys()\n",
    "\n",
    "print(\"There are \",len(genposition2_values), \" position values\")\n",
    "print(\"However there are \",uniquevals, \" unique position values\")\n",
    "print(\"There are \", len(list(samples)), \" unique samples\")\n",
    "\n",
    "kwargs2 = dict(alpha=0.5, bins=binsval2)\n",
    "#plt.hist(genposition2_values, **kwargs2)\n",
    "#plt.ylim(0,400)\n",
    "#plt.title(\"Histogram of genome positions\")\n",
    "#plt.show()\n",
    "\n",
    "df1 = pd.Series(genposition2_values).value_counts().reset_index().sort_values('index').reset_index(drop=True)\n",
    "        \n",
    "df1.columns = ['Position', 'Frequency']\n",
    "print (df1) \n",
    "df1.plot.scatter('Position', 'Frequency')\n",
    "\n"
   ]
  },
  {
   "cell_type": "code",
   "execution_count": 7,
   "metadata": {},
   "outputs": [
    {
     "data": {
      "text/html": [
       "<div>\n",
       "<style scoped>\n",
       "    .dataframe tbody tr th:only-of-type {\n",
       "        vertical-align: middle;\n",
       "    }\n",
       "\n",
       "    .dataframe tbody tr th {\n",
       "        vertical-align: top;\n",
       "    }\n",
       "\n",
       "    .dataframe thead th {\n",
       "        text-align: right;\n",
       "    }\n",
       "</style>\n",
       "<table border=\"1\" class=\"dataframe\">\n",
       "  <thead>\n",
       "    <tr style=\"text-align: right;\">\n",
       "      <th></th>\n",
       "      <th>Position</th>\n",
       "      <th>Frequency</th>\n",
       "    </tr>\n",
       "  </thead>\n",
       "  <tbody>\n",
       "    <tr>\n",
       "      <th>3897</th>\n",
       "      <td>3975</td>\n",
       "      <td>1</td>\n",
       "    </tr>\n",
       "    <tr>\n",
       "      <th>5432</th>\n",
       "      <td>5523</td>\n",
       "      <td>1</td>\n",
       "    </tr>\n",
       "    <tr>\n",
       "      <th>22091</th>\n",
       "      <td>22510</td>\n",
       "      <td>1</td>\n",
       "    </tr>\n",
       "    <tr>\n",
       "      <th>22090</th>\n",
       "      <td>22508</td>\n",
       "      <td>1</td>\n",
       "    </tr>\n",
       "    <tr>\n",
       "      <th>22087</th>\n",
       "      <td>22505</td>\n",
       "      <td>1</td>\n",
       "    </tr>\n",
       "    <tr>\n",
       "      <th>...</th>\n",
       "      <td>...</td>\n",
       "      <td>...</td>\n",
       "    </tr>\n",
       "    <tr>\n",
       "      <th>25117</th>\n",
       "      <td>25563</td>\n",
       "      <td>716</td>\n",
       "    </tr>\n",
       "    <tr>\n",
       "      <th>201</th>\n",
       "      <td>241</td>\n",
       "      <td>1152</td>\n",
       "    </tr>\n",
       "    <tr>\n",
       "      <th>2968</th>\n",
       "      <td>3037</td>\n",
       "      <td>1199</td>\n",
       "    </tr>\n",
       "    <tr>\n",
       "      <th>22966</th>\n",
       "      <td>23403</td>\n",
       "      <td>1220</td>\n",
       "    </tr>\n",
       "    <tr>\n",
       "      <th>14139</th>\n",
       "      <td>14408</td>\n",
       "      <td>1293</td>\n",
       "    </tr>\n",
       "  </tbody>\n",
       "</table>\n",
       "<p>29343 rows × 2 columns</p>\n",
       "</div>"
      ],
      "text/plain": [
       "       Position  Frequency\n",
       "3897       3975          1\n",
       "5432       5523          1\n",
       "22091     22510          1\n",
       "22090     22508          1\n",
       "22087     22505          1\n",
       "...         ...        ...\n",
       "25117     25563        716\n",
       "201         241       1152\n",
       "2968       3037       1199\n",
       "22966     23403       1220\n",
       "14139     14408       1293\n",
       "\n",
       "[29343 rows x 2 columns]"
      ]
     },
     "execution_count": 7,
     "metadata": {},
     "output_type": "execute_result"
    }
   ],
   "source": [
    "df1.sort_values('Frequency')"
   ]
  },
  {
   "cell_type": "markdown",
   "metadata": {},
   "source": [
    "### 5% to 95% AF"
   ]
  },
  {
   "cell_type": "code",
   "execution_count": 8,
   "metadata": {},
   "outputs": [
    {
     "name": "stdout",
     "output_type": "stream",
     "text": [
      "[0.937107 0.05128200000000001 0.067729 ... 0.943342 0.062127999999999996\n",
      " 0.074563]\n"
     ]
    }
   ],
   "source": [
    "import numpy as np\n",
    "m = [row for row in b if row[7]<=0.95]\n",
    "q = [row for row in m if row[7]>=0.05]\n",
    "qdata=np.array(q)\n",
    "\n",
    "freq_values=qdata[:,7]\n",
    "print(freq_values)\n",
    "## all values are between 5% and 95% AF\n",
    "\n"
   ]
  },
  {
   "cell_type": "code",
   "execution_count": 20,
   "metadata": {},
   "outputs": [
    {
     "name": "stdout",
     "output_type": "stream",
     "text": [
      "There are  13446  position values\n",
      "However there are  1940  unique position values\n",
      "There are  2137  unique samples\n",
      "      Position  Frequency\n",
      "0           39          1\n",
      "1           66          1\n",
      "2           82          1\n",
      "3           84          1\n",
      "4           98          1\n",
      "...        ...        ...\n",
      "1935     29779          1\n",
      "1936     29793          1\n",
      "1937     29800          1\n",
      "1938     29816          1\n",
      "1939     29867          1\n",
      "\n",
      "[1940 rows x 2 columns]\n"
     ]
    },
    {
     "data": {
      "text/plain": [
       "<matplotlib.axes._subplots.AxesSubplot at 0x21d0af15730>"
      ]
     },
     "execution_count": 20,
     "metadata": {},
     "output_type": "execute_result"
    },
    {
     "data": {
      "image/png": "[encoded data removed]",
      "text/plain": [
       "<Figure size 432x288 with 1 Axes>"
      ]
     },
     "metadata": {
      "needs_background": "light"
     },
     "output_type": "display_data"
    }
   ],
   "source": [
    "\n",
    "genposition3_values=qdata[:,2] \n",
    "positions3=Counter(genposition3_values).keys() \n",
    "uniquevals3=len(list(positions3))\n",
    "binsval3=30000\n",
    "samples=Counter(qdata[:,0]).keys()\n",
    "\n",
    "samples=Counter(qdata[:,0]).keys()\n",
    "\n",
    "print(\"There are \",len(genposition3_values), \" position values\")\n",
    "print(\"However there are \",uniquevals3, \" unique position values\")\n",
    "print(\"There are \", len(list(samples)), \" unique samples\")\n",
    "\n",
    "kwargs3 = dict(alpha=0.5, bins=binsval3)\n",
    "#plt.hist(genposition3_values, **kwargs3)\n",
    "#plt.ylim(0,150)\n",
    "#plt.title(\"Histogram of genome positions 5%-95%\")\n",
    "#plt.show()\n",
    "\n",
    "df3 = pd.Series(genposition3_values).value_counts().reset_index().sort_values('index').reset_index(drop=True)\n",
    "        \n",
    "df3.columns = ['Position', 'Frequency']\n",
    "print (df3) \n",
    "df3.plot.scatter('Position', 'Frequency')\n"
   ]
  },
  {
   "cell_type": "code",
   "execution_count": 21,
   "metadata": {},
   "outputs": [
    {
     "data": {
      "text/html": [
       "<div>\n",
       "<style scoped>\n",
       "    .dataframe tbody tr th:only-of-type {\n",
       "        vertical-align: middle;\n",
       "    }\n",
       "\n",
       "    .dataframe tbody tr th {\n",
       "        vertical-align: top;\n",
       "    }\n",
       "\n",
       "    .dataframe thead th {\n",
       "        text-align: right;\n",
       "    }\n",
       "</style>\n",
       "<table border=\"1\" class=\"dataframe\">\n",
       "  <thead>\n",
       "    <tr style=\"text-align: right;\">\n",
       "      <th></th>\n",
       "      <th>Position</th>\n",
       "      <th>Frequency</th>\n",
       "    </tr>\n",
       "  </thead>\n",
       "  <tbody>\n",
       "    <tr>\n",
       "      <th>0</th>\n",
       "      <td>39</td>\n",
       "      <td>1</td>\n",
       "    </tr>\n",
       "    <tr>\n",
       "      <th>1144</th>\n",
       "      <td>18714</td>\n",
       "      <td>1</td>\n",
       "    </tr>\n",
       "    <tr>\n",
       "      <th>1142</th>\n",
       "      <td>18707</td>\n",
       "      <td>1</td>\n",
       "    </tr>\n",
       "    <tr>\n",
       "      <th>1140</th>\n",
       "      <td>18697</td>\n",
       "      <td>1</td>\n",
       "    </tr>\n",
       "    <tr>\n",
       "      <th>1139</th>\n",
       "      <td>18687</td>\n",
       "      <td>1</td>\n",
       "    </tr>\n",
       "    <tr>\n",
       "      <th>...</th>\n",
       "      <td>...</td>\n",
       "      <td>...</td>\n",
       "    </tr>\n",
       "    <tr>\n",
       "      <th>1555</th>\n",
       "      <td>25563</td>\n",
       "      <td>621</td>\n",
       "    </tr>\n",
       "    <tr>\n",
       "      <th>21</th>\n",
       "      <td>241</td>\n",
       "      <td>1110</td>\n",
       "    </tr>\n",
       "    <tr>\n",
       "      <th>221</th>\n",
       "      <td>3037</td>\n",
       "      <td>1156</td>\n",
       "    </tr>\n",
       "    <tr>\n",
       "      <th>1381</th>\n",
       "      <td>23403</td>\n",
       "      <td>1203</td>\n",
       "    </tr>\n",
       "    <tr>\n",
       "      <th>872</th>\n",
       "      <td>14408</td>\n",
       "      <td>1255</td>\n",
       "    </tr>\n",
       "  </tbody>\n",
       "</table>\n",
       "<p>1940 rows × 2 columns</p>\n",
       "</div>"
      ],
      "text/plain": [
       "      Position  Frequency\n",
       "0           39          1\n",
       "1144     18714          1\n",
       "1142     18707          1\n",
       "1140     18697          1\n",
       "1139     18687          1\n",
       "...        ...        ...\n",
       "1555     25563        621\n",
       "21         241       1110\n",
       "221       3037       1156\n",
       "1381     23403       1203\n",
       "872      14408       1255\n",
       "\n",
       "[1940 rows x 2 columns]"
      ]
     },
     "execution_count": 21,
     "metadata": {},
     "output_type": "execute_result"
    }
   ],
   "source": [
    "df3.sort_values('Frequency')"
   ]
  },
  {
   "cell_type": "markdown",
   "metadata": {},
   "source": [
    "### 5% to 50% AF"
   ]
  },
  {
   "cell_type": "code",
   "execution_count": 10,
   "metadata": {},
   "outputs": [
    {
     "name": "stdout",
     "output_type": "stream",
     "text": [
      "[0.05128200000000001 0.067729 0.056399 ... 0.074048 0.062127999999999996\n",
      " 0.074563]\n"
     ]
    }
   ],
   "source": [
    "import numpy as np\n",
    "m = [row for row in b if row[7]<=0.50]\n",
    "q = [row for row in m if row[7]>=0.05]\n",
    "qdata=np.array(q)\n",
    "\n",
    "freq_values=qdata[:,7]\n",
    "print(freq_values)\n",
    "## all values are between 5% and 95% AF\n"
   ]
  },
  {
   "cell_type": "code",
   "execution_count": 11,
   "metadata": {},
   "outputs": [
    {
     "name": "stdout",
     "output_type": "stream",
     "text": [
      "There are  70352  position values\n",
      "However there are  13882  unique position values\n",
      "There are  1553  unique samples\n",
      "       Position  Frequency\n",
      "0            27          1\n",
      "1            30          2\n",
      "2            34          1\n",
      "3            39          1\n",
      "4            40          1\n",
      "...         ...        ...\n",
      "13877     29835         28\n",
      "13878     29836         23\n",
      "13879     29837          8\n",
      "13880     29839          2\n",
      "13881     29870          2\n",
      "\n",
      "[13882 rows x 2 columns]\n"
     ]
    },
    {
     "data": {
      "text/plain": [
       "<matplotlib.axes._subplots.AxesSubplot at 0x21d22519160>"
      ]
     },
     "execution_count": 11,
     "metadata": {},
     "output_type": "execute_result"
    },
    {
     "data": {
      "image/png": "[encoded data removed]",
      "text/plain": [
       "<Figure size 432x288 with 1 Axes>"
      ]
     },
     "metadata": {
      "needs_background": "light"
     },
     "output_type": "display_data"
    }
   ],
   "source": [
    "\n",
    "genposition3_values=qdata[:,2] \n",
    "positions3=Counter(genposition3_values).keys() \n",
    "uniquevals3=len(list(positions3))\n",
    "binsval3=30000\n",
    "samples=Counter(qdata[:,0]).keys()\n",
    "\n",
    "samples=Counter(qdata[:,0]).keys()\n",
    "\n",
    "print(\"There are \",len(genposition3_values), \" position values\")\n",
    "print(\"However there are \",uniquevals3, \" unique position values\")\n",
    "print(\"There are \", len(list(samples)), \" unique samples\")\n",
    "\n",
    "kwargs3 = dict(alpha=0.5, bins=binsval3)\n",
    "#plt.hist(genposition3_values, **kwargs3)\n",
    "#plt.ylim(0,150)\n",
    "#plt.title(\"Histogram of genome positions 5%-50%\")\n",
    "#plt.show()\n",
    "\n",
    "df3 = pd.Series(genposition3_values).value_counts().reset_index().sort_values('index').reset_index(drop=True)\n",
    "        \n",
    "df3.columns = ['Position', 'Frequency']\n",
    "print (df3) \n",
    "df3.plot.scatter('Position', 'Frequency')"
   ]
  },
  {
   "cell_type": "code",
   "execution_count": 12,
   "metadata": {},
   "outputs": [
    {
     "data": {
      "text/html": [
       "<div>\n",
       "<style scoped>\n",
       "    .dataframe tbody tr th:only-of-type {\n",
       "        vertical-align: middle;\n",
       "    }\n",
       "\n",
       "    .dataframe tbody tr th {\n",
       "        vertical-align: top;\n",
       "    }\n",
       "\n",
       "    .dataframe thead th {\n",
       "        text-align: right;\n",
       "    }\n",
       "</style>\n",
       "<table border=\"1\" class=\"dataframe\">\n",
       "  <thead>\n",
       "    <tr style=\"text-align: right;\">\n",
       "      <th></th>\n",
       "      <th>Position</th>\n",
       "      <th>Frequency</th>\n",
       "    </tr>\n",
       "  </thead>\n",
       "  <tbody>\n",
       "    <tr>\n",
       "      <th>0</th>\n",
       "      <td>27</td>\n",
       "      <td>1</td>\n",
       "    </tr>\n",
       "    <tr>\n",
       "      <th>4222</th>\n",
       "      <td>9429</td>\n",
       "      <td>1</td>\n",
       "    </tr>\n",
       "    <tr>\n",
       "      <th>4221</th>\n",
       "      <td>9428</td>\n",
       "      <td>1</td>\n",
       "    </tr>\n",
       "    <tr>\n",
       "      <th>4219</th>\n",
       "      <td>9425</td>\n",
       "      <td>1</td>\n",
       "    </tr>\n",
       "    <tr>\n",
       "      <th>4218</th>\n",
       "      <td>9423</td>\n",
       "      <td>1</td>\n",
       "    </tr>\n",
       "    <tr>\n",
       "      <th>...</th>\n",
       "      <td>...</td>\n",
       "      <td>...</td>\n",
       "    </tr>\n",
       "    <tr>\n",
       "      <th>7887</th>\n",
       "      <td>17096</td>\n",
       "      <td>127</td>\n",
       "    </tr>\n",
       "    <tr>\n",
       "      <th>7263</th>\n",
       "      <td>15769</td>\n",
       "      <td>127</td>\n",
       "    </tr>\n",
       "    <tr>\n",
       "      <th>5555</th>\n",
       "      <td>12164</td>\n",
       "      <td>142</td>\n",
       "    </tr>\n",
       "    <tr>\n",
       "      <th>260</th>\n",
       "      <td>558</td>\n",
       "      <td>149</td>\n",
       "    </tr>\n",
       "    <tr>\n",
       "      <th>6705</th>\n",
       "      <td>14548</td>\n",
       "      <td>157</td>\n",
       "    </tr>\n",
       "  </tbody>\n",
       "</table>\n",
       "<p>13882 rows × 2 columns</p>\n",
       "</div>"
      ],
      "text/plain": [
       "      Position  Frequency\n",
       "0           27          1\n",
       "4222      9429          1\n",
       "4221      9428          1\n",
       "4219      9425          1\n",
       "4218      9423          1\n",
       "...        ...        ...\n",
       "7887     17096        127\n",
       "7263     15769        127\n",
       "5555     12164        142\n",
       "260        558        149\n",
       "6705     14548        157\n",
       "\n",
       "[13882 rows x 2 columns]"
      ]
     },
     "execution_count": 12,
     "metadata": {},
     "output_type": "execute_result"
    }
   ],
   "source": [
    "df3.sort_values('Frequency')"
   ]
  },
  {
   "cell_type": "markdown",
   "metadata": {},
   "source": [
    "### 0% to 50% AF"
   ]
  },
  {
   "cell_type": "code",
   "execution_count": 13,
   "metadata": {},
   "outputs": [
    {
     "name": "stdout",
     "output_type": "stream",
     "text": [
      "[0.021807 0.018277 0.020997 ... 0.005898 0.006461 0.009599]\n"
     ]
    }
   ],
   "source": [
    "import numpy as np\n",
    "q =[row for row in b if row[7]<=0.50]\n",
    "qdata=np.array(q)\n",
    "\n",
    "freq_values=qdata[:,7]\n",
    "print(freq_values)\n",
    "## all values are between 5% and 95% AF"
   ]
  },
  {
   "cell_type": "code",
   "execution_count": 14,
   "metadata": {},
   "outputs": [
    {
     "name": "stdout",
     "output_type": "stream",
     "text": [
      "There are  882553  position values\n",
      "However there are  29335  unique position values\n",
      "There are  2159  unique samples\n",
      "       Position  Frequency\n",
      "0            10          2\n",
      "1            12          1\n",
      "2            13          1\n",
      "3            14          1\n",
      "4            19          2\n",
      "...         ...        ...\n",
      "29330     29859          2\n",
      "29331     29861          1\n",
      "29332     29864          1\n",
      "29333     29868          1\n",
      "29334     29870          3\n",
      "\n",
      "[29335 rows x 2 columns]\n"
     ]
    },
    {
     "data": {
      "text/plain": [
       "<matplotlib.axes._subplots.AxesSubplot at 0x21d2d526af0>"
      ]
     },
     "execution_count": 14,
     "metadata": {},
     "output_type": "execute_result"
    },
    {
     "data": {
      "image/png": "[encoded data removed]",
      "text/plain": [
       "<Figure size 432x288 with 1 Axes>"
      ]
     },
     "metadata": {
      "needs_background": "light"
     },
     "output_type": "display_data"
    }
   ],
   "source": [
    "\n",
    "genposition3_values=qdata[:,2] \n",
    "positions3=Counter(genposition3_values).keys() \n",
    "uniquevals3=len(list(positions3))\n",
    "binsval3=30000\n",
    "samples=Counter(qdata[:,0]).keys()\n",
    "\n",
    "samples=Counter(qdata[:,0]).keys()\n",
    "\n",
    "print(\"There are \",len(genposition3_values), \" position values\")\n",
    "print(\"However there are \",uniquevals3, \" unique position values\")\n",
    "print(\"There are \", len(list(samples)), \" unique samples\")\n",
    "\n",
    "kwargs3 = dict(alpha=0.5, bins=binsval3)\n",
    "#plt.hist(genposition3_values, **kwargs3)\n",
    "#plt.ylim(0,400)\n",
    "#plt.title(\"Histogram of genome positions 0%-50%\")\n",
    "#plt.show()\n",
    "\n",
    "df3 = pd.Series(genposition3_values).value_counts().reset_index().sort_values('index').reset_index(drop=True)\n",
    "        \n",
    "df3.columns = ['Position', 'Frequency']\n",
    "print (df3)\n",
    "df3.plot.scatter('Position', 'Frequency')"
   ]
  },
  {
   "cell_type": "markdown",
   "metadata": {},
   "source": [
    "### 50% AF to 95% AF"
   ]
  },
  {
   "cell_type": "code",
   "execution_count": 15,
   "metadata": {},
   "outputs": [
    {
     "name": "stdout",
     "output_type": "stream",
     "text": [
      "[0.937107 0.94 0.9393940000000001 ... 0.788875 0.948781 0.943342]\n"
     ]
    }
   ],
   "source": [
    "import numpy as np\n",
    "m = [row for row in b if row[7]>=0.50]\n",
    "q = [row for row in m if row[7]<=0.95]\n",
    "qdata=np.array(q)\n",
    "\n",
    "freq_values=qdata[:,7]\n",
    "print(freq_values)\n",
    "## all values are between 5% and 95% AF"
   ]
  },
  {
   "cell_type": "code",
   "execution_count": 16,
   "metadata": {},
   "outputs": [
    {
     "name": "stdout",
     "output_type": "stream",
     "text": [
      "There are  6135  position values\n",
      "However there are  1325  unique position values\n",
      "There are  1415  unique samples\n",
      "      Position  Frequency\n",
      "0           39          1\n",
      "1           82          1\n",
      "2           84          1\n",
      "3           98          1\n",
      "4          140          1\n",
      "...        ...        ...\n",
      "1320     29774          4\n",
      "1321     29779          1\n",
      "1322     29793          1\n",
      "1323     29800          1\n",
      "1324     29867          1\n",
      "\n",
      "[1325 rows x 2 columns]\n"
     ]
    },
    {
     "data": {
      "text/plain": [
       "<matplotlib.axes._subplots.AxesSubplot at 0x21d2d50b460>"
      ]
     },
     "execution_count": 16,
     "metadata": {},
     "output_type": "execute_result"
    },
    {
     "data": {
      "image/png": "[encoded data removed]",
      "text/plain": [
       "<Figure size 432x288 with 1 Axes>"
      ]
     },
     "metadata": {
      "needs_background": "light"
     },
     "output_type": "display_data"
    }
   ],
   "source": [
    "\n",
    "genposition3_values=qdata[:,2] \n",
    "positions3=Counter(genposition3_values).keys() \n",
    "uniquevals3=len(list(positions3))\n",
    "binsval3=30000\n",
    "samples=Counter(qdata[:,0]).keys()\n",
    "\n",
    "samples=Counter(qdata[:,0]).keys()\n",
    "\n",
    "print(\"There are \",len(genposition3_values), \" position values\")\n",
    "print(\"However there are \",uniquevals3, \" unique position values\")\n",
    "print(\"There are \", len(list(samples)), \" unique samples\")\n",
    "\n",
    "kwargs3 = dict(alpha=0.5, bins=binsval3)\n",
    "#plt.hist(genposition3_values, **kwargs3)\n",
    "#plt.ylim(0,20)\n",
    "#plt.title(\"Histogram of genome positions 50%-95%\")\n",
    "#plt.show()\n",
    "\n",
    "df3 = pd.Series(genposition3_values).value_counts().reset_index().sort_values('index').reset_index(drop=True)\n",
    "        \n",
    "df3.columns = ['Position', 'Frequency']\n",
    "print (df3)\n",
    "df3.plot.scatter('Position', 'Frequency')"
   ]
  },
  {
   "cell_type": "markdown",
   "metadata": {},
   "source": [
    "### 50% AF to 100% AF"
   ]
  },
  {
   "cell_type": "code",
   "execution_count": 17,
   "metadata": {},
   "outputs": [
    {
     "name": "stdout",
     "output_type": "stream",
     "text": [
      "[0.937107 0.9587629999999999 0.976667 ... 0.948781 0.943342 0.970134]\n"
     ]
    }
   ],
   "source": [
    "import numpy as np\n",
    "q = [row for row in b if row[7]>=0.50]\n",
    "\n",
    "qdata=np.array(q)\n",
    "\n",
    "freq_values=qdata[:,7]\n",
    "print(freq_values)\n",
    "## all values are between 5% and 95% AF"
   ]
  },
  {
   "cell_type": "code",
   "execution_count": 18,
   "metadata": {},
   "outputs": [
    {
     "name": "stdout",
     "output_type": "stream",
     "text": [
      "There are  13446  position values\n",
      "However there are  1940  unique position values\n",
      "There are  2137  unique samples\n",
      "      Position  Frequency\n",
      "0           39          1\n",
      "1           66          1\n",
      "2           82          1\n",
      "3           84          1\n",
      "4           98          1\n",
      "...        ...        ...\n",
      "1935     29779          1\n",
      "1936     29793          1\n",
      "1937     29800          1\n",
      "1938     29816          1\n",
      "1939     29867          1\n",
      "\n",
      "[1940 rows x 2 columns]\n"
     ]
    },
    {
     "data": {
      "text/plain": [
       "<matplotlib.axes._subplots.AxesSubplot at 0x21d27ec4640>"
      ]
     },
     "execution_count": 18,
     "metadata": {},
     "output_type": "execute_result"
    },
    {
     "data": {
      "image/png": "[encoded data removed]",
      "text/plain": [
       "<Figure size 432x288 with 1 Axes>"
      ]
     },
     "metadata": {
      "needs_background": "light"
     },
     "output_type": "display_data"
    }
   ],
   "source": [
    "genposition3_values=qdata[:,2] \n",
    "positions3=Counter(genposition3_values).keys() \n",
    "uniquevals3=len(list(positions3))\n",
    "binsval3=30000\n",
    "samples=Counter(qdata[:,0]).keys()\n",
    "\n",
    "samples=Counter(qdata[:,0]).keys()\n",
    "\n",
    "print(\"There are \",len(genposition3_values), \" position values\")\n",
    "print(\"However there are \",uniquevals3, \" unique position values\")\n",
    "print(\"There are \", len(list(samples)), \" unique samples\")\n",
    "\n",
    "kwargs3 = dict(alpha=0.5, bins=binsval3)\n",
    "#plt.hist(genposition3_values, **kwargs3)\n",
    "#plt.ylim(0,40)\n",
    "#plt.title(\"Histogram of genome positions\")\n",
    "#plt.show()\n",
    "\n",
    "df3 = pd.Series(genposition3_values).value_counts().reset_index().sort_values('index').reset_index(drop=True)\n",
    "        \n",
    "df3.columns = ['Position', 'Frequency']\n",
    "print (df3) \n",
    "df3.plot.scatter('Position', 'Frequency')"
   ]
  },
  {
   "cell_type": "code",
   "execution_count": null,
   "metadata": {},
   "outputs": [],
   "source": []
  }
 ],
 "metadata": {
  "kernelspec": {
   "display_name": "Python 3",
   "language": "python",
   "name": "python3"
  },
  "language_info": {
   "codemirror_mode": {
    "name": "ipython",
    "version": 3
   },
   "file_extension": ".py",
   "mimetype": "text/x-python",
   "name": "python",
   "nbconvert_exporter": "python",
   "pygments_lexer": "ipython3",
   "version": "3.8.3"
  }
 },
 "nbformat": 4,
 "nbformat_minor": 4
}
